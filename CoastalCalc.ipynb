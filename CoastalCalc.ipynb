{
 "cells": [
  {
   "source": [
    "# Wave: Linear Wave Theory"
   ],
   "cell_type": "markdown",
   "metadata": {}
  },
  {
   "source": [
    "Input : \n",
    "\n",
    "Wave Height(m) :\n",
    "\n",
    "Wave Period(s) :\n",
    "\n",
    "Water Depth(m) :"
   ],
   "cell_type": "markdown",
   "metadata": {}
  },
  {
   "source": [
    "Output:\n",
    "\n",
    "Relative Depth\n",
    "\n",
    "Offshore Wave Height\n",
    "\n",
    "Wave Celerity\n",
    "\n",
    "Group Celerity\n",
    "\n",
    "Wave Length\n",
    "\n",
    "Wave Energy\n",
    "\n",
    "Wave Energy Flux\n",
    "\n",
    "Max Horizontal Oribital Velocity\n",
    "\n"
   ],
   "cell_type": "markdown",
   "metadata": {}
  },
  {
   "source": [
    "Graphical\n",
    "\n",
    "Orbital Velocity\n",
    "\n",
    "Orbital Tack\n",
    "\n",
    "Tp - WaveLenght Curve"
   ],
   "cell_type": "markdown",
   "metadata": {}
  },
  {
   "source": [
    "## Background\n",
    "### Linear Wave Theory\n"
   ],
   "cell_type": "markdown",
   "metadata": {}
  },
  {
   "cell_type": "code",
   "execution_count": null,
   "metadata": {},
   "outputs": [],
   "source": []
  }
 ],
 "metadata": {
  "kernelspec": {
   "display_name": "Python 3.6.10 64-bit ('unidata': conda)",
   "language": "python",
   "name": "python361064bitunidatacondaaec59b561b9e49a3a7fc32ef977c4ccc"
  },
  "language_info": {
   "codemirror_mode": {
    "name": "ipython",
    "version": 3
   },
   "file_extension": ".py",
   "mimetype": "text/x-python",
   "name": "python",
   "nbconvert_exporter": "python",
   "pygments_lexer": "ipython3",
   "version": "3.9.0-final"
  }
 },
 "nbformat": 4,
 "nbformat_minor": 4
}