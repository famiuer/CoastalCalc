{
 "cells": [
  {
   "source": [
    "# Wave: Linear Wave Theory"
   ],
   "cell_type": "markdown",
   "metadata": {}
  },
  {
   "cell_type": "code",
   "execution_count": 1,
   "metadata": {},
   "outputs": [],
   "source": [
    "import numpy as np\n",
    "from ipywidgets import interact, FloatSlider, IntSlider, FloatText\n",
    "import ipywidgets as widgets"
   ]
  },
  {
   "cell_type": "code",
   "execution_count": null,
   "metadata": {},
   "outputs": [],
   "source": []
  },
  {
   "source": [
    "Input : \n",
    "\n",
    "Wave Height(m) :\n",
    "\n",
    "Wave Period(s) :\n",
    "\n",
    "Water Depth(m) :\n",
    "\n",
    "Relative depth is defined as 'Deep' when the water depth $Z>0.5L$, 'Intermediate' when $0.05L<Z<0.5L$ and 'Shallow' when  $Z<0.05L$. Wave breaking occurs in shallow water when $H/Z>0.78$ (where HH is wave height) or in deeper water when $H/L>0.17$"
   ],
   "cell_type": "markdown",
   "metadata": {}
  },
  {
   "cell_type": "code",
   "execution_count": 2,
   "metadata": {},
   "outputs": [],
   "source": [
    "Wave_H = 2\n",
    "Wave_T = 12\n",
    "Depth = 80"
   ]
  },
  {
   "cell_type": "code",
   "execution_count": 3,
   "metadata": {},
   "outputs": [],
   "source": [
    "#define constants\n",
    "Gravity = 9.8\n",
    "rho = 1026"
   ]
  },
  {
   "cell_type": "code",
   "execution_count": 4,
   "metadata": {},
   "outputs": [
    {
     "output_type": "stream",
     "name": "stdout",
     "text": [
      "Deep water wavelenght L0 = 224.60 m\n"
     ]
    }
   ],
   "source": [
    "L0 = Gravity * Wave_T ** 2 / 2 /np.pi\n",
    "print(\"Deep water wavelenght L0 = %.2f m\" %L0)"
   ]
  },
  {
   "cell_type": "code",
   "execution_count": 5,
   "metadata": {},
   "outputs": [
    {
     "output_type": "stream",
     "name": "stdout",
     "text": [
      "Water wavelenght L = 217.02 m\n"
     ]
    }
   ],
   "source": [
    "Wave_L = L0 * (np.tanh((np.pi * 2 * np.sqrt(Depth / Gravity) / Wave_T) **(3/2))) ** (2/3)\n",
    "print(\"Water wavelenght L = %.2f m\" %Wave_L)"
   ]
  },
  {
   "cell_type": "code",
   "execution_count": 6,
   "metadata": {},
   "outputs": [
    {
     "output_type": "stream",
     "name": "stdout",
     "text": [
      "Group Celerity Cg = 9.93 m/s\n"
     ]
    }
   ],
   "source": [
    "k = np.pi * 2 /Wave_L\n",
    "C = np.sqrt(Gravity / k * np.tanh(k * Depth))\n",
    "n = 1/2 * ( 1 + 2 * k * Depth/np.sinh(2 * k * Depth))\n",
    "Cg = n * C\n",
    "print(\"Group Celerity Cg = %.2f m/s\" %Cg)"
   ]
  },
  {
   "cell_type": "code",
   "execution_count": 7,
   "metadata": {},
   "outputs": [
    {
     "output_type": "stream",
     "name": "stdout",
     "text": [
      "Wave energy density (E) = 5027.40 J/m^2\n"
     ]
    }
   ],
   "source": [
    "E = 1 / 8 * rho * Gravity * Wave_H ** 2\n",
    "print(\"Wave energy density (E) = %.2f J/m^2\" %E)"
   ]
  },
  {
   "cell_type": "code",
   "execution_count": 8,
   "metadata": {},
   "outputs": [
    {
     "output_type": "stream",
     "name": "stdout",
     "text": [
      "Wave energy flux P = 49929.06 W/m\n"
     ]
    }
   ],
   "source": [
    "P = E * Cg\n",
    "print(\"Wave energy flux P = %.2f W/m\" %P)"
   ]
  },
  {
   "cell_type": "code",
   "execution_count": 9,
   "metadata": {},
   "outputs": [
    {
     "output_type": "stream",
     "name": "stdout",
     "text": [
      "Maximum horizontal surface orbital velocity Umax = 5.31 m/s\nMaximum horizontal bed orbital velocity Ub = 0.1043 m/s\n"
     ]
    }
   ],
   "source": [
    "Umax = np.pi * Wave_H / Wave_T * np.exp(k * Depth)\n",
    "Ub = Wave_H * np.pi / Wave_T / np.sinh(k * (Depth))\n",
    "print(\"Maximum horizontal surface orbital velocity Umax = %.2f m/s\" %Umax)\n",
    "print(\"Maximum horizontal bed orbital velocity Ub = %.4f m/s\" %Ub)"
   ]
  },
  {
   "cell_type": "code",
   "execution_count": null,
   "metadata": {},
   "outputs": [],
   "source": []
  },
  {
   "cell_type": "code",
   "execution_count": 10,
   "metadata": {},
   "outputs": [],
   "source": [
    "from ipywidgets import interact, FloatSlider, IntSlider, FloatText\n",
    "import ipywidgets as widgets"
   ]
  },
  {
   "cell_type": "code",
   "execution_count": 11,
   "metadata": {},
   "outputs": [],
   "source": [
    "def multiply(a, b):\n",
    " \n",
    "    return round(a * b , 2)"
   ]
  },
  {
   "cell_type": "code",
   "execution_count": 12,
   "metadata": {},
   "outputs": [],
   "source": [
    "a_slider = FloatSlider(min = 0, max =20, step = 0.1, value = 10)\n",
    "b_slider = FloatSlider(min = 0, max =20, step = 0.1, value = 10)\n",
    "a_box = FloatText()\n",
    "b_box = FloatText()\n",
    "alink = widgets.jslink((a_slider, 'value'),(a_box,'value'))\n",
    "blink = widgets.jslink((b_slider, 'value'),(b_box,'value'))"
   ]
  },
  {
   "cell_type": "code",
   "execution_count": 13,
   "metadata": {},
   "outputs": [
    {
     "output_type": "display_data",
     "data": {
      "text/plain": "FloatSlider(value=10.0, max=20.0)",
      "application/vnd.jupyter.widget-view+json": {
       "version_major": 2,
       "version_minor": 0,
       "model_id": "53744b7ed74b4a94b177fcb5061fe2b6"
      }
     },
     "metadata": {}
    },
    {
     "output_type": "display_data",
     "data": {
      "text/plain": "FloatText(value=10.0)",
      "application/vnd.jupyter.widget-view+json": {
       "version_major": 2,
       "version_minor": 0,
       "model_id": "f6746cff329c4aaaa2da4fed53c53083"
      }
     },
     "metadata": {}
    },
    {
     "output_type": "display_data",
     "data": {
      "text/plain": "FloatSlider(value=10.0, max=20.0)",
      "application/vnd.jupyter.widget-view+json": {
       "version_major": 2,
       "version_minor": 0,
       "model_id": "8c439aa209ba406a8dc505cb22ac6f3d"
      }
     },
     "metadata": {}
    },
    {
     "output_type": "display_data",
     "data": {
      "text/plain": "FloatText(value=10.0)",
      "application/vnd.jupyter.widget-view+json": {
       "version_major": 2,
       "version_minor": 0,
       "model_id": "f68d55f340a44911b4628a19a87d7434"
      }
     },
     "metadata": {}
    },
    {
     "output_type": "display_data",
     "data": {
      "text/plain": "interactive(children=(FloatSlider(value=10.0, description='a', max=20.0), FloatSlider(value=10.0, description=…",
      "application/vnd.jupyter.widget-view+json": {
       "version_major": 2,
       "version_minor": 0,
       "model_id": "2386e3cb90984c5583450688639e9a45"
      }
     },
     "metadata": {}
    },
    {
     "output_type": "execute_result",
     "data": {
      "text/plain": [
       "<function __main__.multiply(a, b)>"
      ]
     },
     "metadata": {},
     "execution_count": 13
    }
   ],
   "source": [
    "display(a_slider,a_box)\n",
    "display(b_slider,b_box)\n",
    "interact(multiply, a = a_slider, b = b_slider)\n",
    "\n"
   ]
  },
  {
   "cell_type": "code",
   "execution_count": 15,
   "metadata": {},
   "outputs": [
    {
     "output_type": "display_data",
     "data": {
      "text/plain": "FloatSlider(value=2.0, max=20.0)",
      "application/vnd.jupyter.widget-view+json": {
       "version_major": 2,
       "version_minor": 0,
       "model_id": "95b91ffc4e564f1f98d47a3694f03bfc"
      }
     },
     "metadata": {}
    },
    {
     "output_type": "display_data",
     "data": {
      "text/plain": "FloatText(value=0.0)",
      "application/vnd.jupyter.widget-view+json": {
       "version_major": 2,
       "version_minor": 0,
       "model_id": "0654aa3f1513439abed5c862b703a1bb"
      }
     },
     "metadata": {}
    },
    {
     "output_type": "display_data",
     "data": {
      "text/plain": "FloatSlider(value=12.0, max=20.0)",
      "application/vnd.jupyter.widget-view+json": {
       "version_major": 2,
       "version_minor": 0,
       "model_id": "53778286838e4a86b518e1d6f287c2fa"
      }
     },
     "metadata": {}
    },
    {
     "output_type": "display_data",
     "data": {
      "text/plain": "FloatText(value=0.0)",
      "application/vnd.jupyter.widget-view+json": {
       "version_major": 2,
       "version_minor": 0,
       "model_id": "0cdd4e249eb9401b9f9485722e3f49e4"
      }
     },
     "metadata": {}
    },
    {
     "output_type": "display_data",
     "data": {
      "text/plain": "FloatSlider(value=8.0, max=20.0)",
      "application/vnd.jupyter.widget-view+json": {
       "version_major": 2,
       "version_minor": 0,
       "model_id": "f289d1b88a77422a99a15b057cc350ec"
      }
     },
     "metadata": {}
    },
    {
     "output_type": "display_data",
     "data": {
      "text/plain": "FloatText(value=0.0)",
      "application/vnd.jupyter.widget-view+json": {
       "version_major": 2,
       "version_minor": 0,
       "model_id": "82964f0920e74db795b27ecfcb8ce01d"
      }
     },
     "metadata": {}
    },
    {
     "output_type": "execute_result",
     "data": {
      "text/plain": [
       "<ipywidgets.widgets.interaction._InteractFactory at 0x7f9f1d45fb50>"
      ]
     },
     "metadata": {},
     "execution_count": 15
    }
   ],
   "source": [
    "Wave_H_slider = FloatSlider(min = 0, max =20, step = 0.1, value = 2)\n",
    "Wave_T_slider= FloatSlider(min = 0, max =20, step = 0.1, value = 12)\n",
    "Depth_slider = FloatSlider(min = 0, max =20, step = 0.1, value = 8)\n",
    "\n",
    "Wave_H_box = FloatText()\n",
    "Wave_T_box = FloatText()\n",
    "Depth_box = FloatText()\n",
    "\n",
    "display(Wave_H_slider,Wave_H_box,)\n",
    "display(Wave_T_slider,Wave_T_box)\n",
    "display(Depth_slider,Depth_box)\n",
    "\n",
    "Wave_H_link = widgets.jslink((Wave_H_slider, 'value'),(Wave_H_box,'value'))\n",
    "Wave_T_link = widgets.jslink((Wave_T_slider, 'value'),(Wave_T_box,'value'))\n",
    "Depth_link = widgets.jslink((Depth_slider, 'value'),(Depth_box,'value'))\n",
    "interact(Wave_H = Wave_H_slider, Wave_T = Wave_T_slider, Depth = Depth_slider)"
   ]
  },
  {
   "source": [
    "Output:\n",
    "\n",
    "Relative Depth\n",
    "\n",
    "Offshore Wave Height\n",
    "\n",
    "Wave Celerity\n",
    "\n",
    "Group Celerity\n",
    "\n",
    "Wave Length\n",
    "\n",
    "Wave Energy\n",
    "\n",
    "Wave Energy Flux\n",
    "\n",
    "Max Horizontal Oribital Velocity\n",
    "\n"
   ],
   "cell_type": "markdown",
   "metadata": {}
  },
  {
   "source": [
    "Graphical\n",
    "\n",
    "Orbital Velocity\n",
    "\n",
    "Orbital Tack\n",
    "\n",
    "Tp - WaveLenght Curve"
   ],
   "cell_type": "markdown",
   "metadata": {}
  },
  {
   "source": [
    "## Background\n",
    "### Linear Wave Theory\n"
   ],
   "cell_type": "markdown",
   "metadata": {}
  },
  {
   "cell_type": "code",
   "execution_count": null,
   "metadata": {},
   "outputs": [],
   "source": []
  },
  {
   "cell_type": "code",
   "execution_count": null,
   "metadata": {},
   "outputs": [],
   "source": []
  }
 ],
 "metadata": {
  "kernelspec": {
   "display_name": "Python 3",
   "language": "python",
   "name": "python3"
  },
  "language_info": {
   "codemirror_mode": {
    "name": "ipython",
    "version": 3
   },
   "file_extension": ".py",
   "mimetype": "text/x-python",
   "name": "python",
   "nbconvert_exporter": "python",
   "pygments_lexer": "ipython3",
   "version": "3.9.0-final"
  }
 },
 "nbformat": 4,
 "nbformat_minor": 4
}