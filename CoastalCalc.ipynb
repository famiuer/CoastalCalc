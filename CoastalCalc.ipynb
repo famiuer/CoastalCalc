{
 "cells": [
  {
   "source": [
    "# Wave: Linear Wave Theory"
   ],
   "cell_type": "markdown",
   "metadata": {}
  },
  {
   "cell_type": "code",
   "execution_count": null,
   "metadata": {},
   "outputs": [],
   "source": []
  },
  {
   "source": [
    "Input : \n",
    "\n",
    "Wave Height(m) :\n",
    "\n",
    "Wave Period(s) :\n",
    "\n",
    "Water Depth(m) :"
   ],
   "cell_type": "markdown",
   "metadata": {}
  },
  {
   "cell_type": "code",
   "execution_count": 42,
   "metadata": {},
   "outputs": [],
   "source": [
    "from ipywidgets import interact, FloatSlider, IntSlider, FloatText\n",
    "import ipywidgets as widgets"
   ]
  },
  {
   "cell_type": "code",
   "execution_count": 51,
   "metadata": {},
   "outputs": [],
   "source": [
    "def multiply(a, b):\n",
    " \n",
    "    return round(a * b , 2)"
   ]
  },
  {
   "cell_type": "code",
   "execution_count": 52,
   "metadata": {},
   "outputs": [],
   "source": [
    "a_slider = FloatSlider(min = 0, max =20, step = 0.1, value = 10)\n",
    "b_slider = FloatSlider(min = 0, max =20, step = 0.1, value = 10)\n",
    "a_box = FloatText()\n",
    "b_box = FloatText()\n",
    "alink = widgets.jslink((a_slider, 'value'),(a_box,'value'))\n",
    "blink = widgets.jslink((b_slider, 'value'),(b_box,'value'))"
   ]
  },
  {
   "cell_type": "code",
   "execution_count": 53,
   "metadata": {},
   "outputs": [
    {
     "output_type": "display_data",
     "data": {
      "text/plain": "FloatSlider(value=10.0, max=20.0)",
      "application/vnd.jupyter.widget-view+json": {
       "version_major": 2,
       "version_minor": 0,
       "model_id": "46a7047eef8e44458e4116e2371c87b7"
      }
     },
     "metadata": {}
    },
    {
     "output_type": "display_data",
     "data": {
      "text/plain": "FloatText(value=10.0)",
      "application/vnd.jupyter.widget-view+json": {
       "version_major": 2,
       "version_minor": 0,
       "model_id": "5519ea57bb5642a7ae4a609a0f1937e3"
      }
     },
     "metadata": {}
    },
    {
     "output_type": "display_data",
     "data": {
      "text/plain": "FloatSlider(value=10.0, max=20.0)",
      "application/vnd.jupyter.widget-view+json": {
       "version_major": 2,
       "version_minor": 0,
       "model_id": "b1edb17aeed344498c704f1a4a6d93ff"
      }
     },
     "metadata": {}
    },
    {
     "output_type": "display_data",
     "data": {
      "text/plain": "FloatText(value=10.0)",
      "application/vnd.jupyter.widget-view+json": {
       "version_major": 2,
       "version_minor": 0,
       "model_id": "48ad35d912654d54b81b37fdf7c5ac97"
      }
     },
     "metadata": {}
    },
    {
     "output_type": "display_data",
     "data": {
      "text/plain": "interactive(children=(FloatSlider(value=10.0, description='a', max=20.0), FloatSlider(value=10.0, description=…",
      "application/vnd.jupyter.widget-view+json": {
       "version_major": 2,
       "version_minor": 0,
       "model_id": "4c42033f60954ca7bdd509368f6a97a4"
      }
     },
     "metadata": {}
    },
    {
     "output_type": "execute_result",
     "data": {
      "text/plain": [
       "<function __main__.multiply(a, b)>"
      ]
     },
     "metadata": {},
     "execution_count": 53
    }
   ],
   "source": [
    "display(a_slider,a_box)\n",
    "display(b_slider,b_box)\n",
    "interact(multiply, a = a_slider, b = b_slider)\n",
    "\n"
   ]
  },
  {
   "cell_type": "code",
   "execution_count": null,
   "metadata": {},
   "outputs": [],
   "source": []
  },
  {
   "source": [
    "Output:\n",
    "\n",
    "Relative Depth\n",
    "\n",
    "Offshore Wave Height\n",
    "\n",
    "Wave Celerity\n",
    "\n",
    "Group Celerity\n",
    "\n",
    "Wave Length\n",
    "\n",
    "Wave Energy\n",
    "\n",
    "Wave Energy Flux\n",
    "\n",
    "Max Horizontal Oribital Velocity\n",
    "\n"
   ],
   "cell_type": "markdown",
   "metadata": {}
  },
  {
   "source": [
    "Graphical\n",
    "\n",
    "Orbital Velocity\n",
    "\n",
    "Orbital Tack\n",
    "\n",
    "Tp - WaveLenght Curve"
   ],
   "cell_type": "markdown",
   "metadata": {}
  },
  {
   "source": [
    "## Background\n",
    "### Linear Wave Theory\n"
   ],
   "cell_type": "markdown",
   "metadata": {}
  },
  {
   "cell_type": "code",
   "execution_count": null,
   "metadata": {},
   "outputs": [],
   "source": []
  }
 ],
 "metadata": {
  "kernelspec": {
   "display_name": "Python 3",
   "language": "python",
   "name": "python3"
  },
  "language_info": {
   "codemirror_mode": {
    "name": "ipython",
    "version": 3
   },
   "file_extension": ".py",
   "mimetype": "text/x-python",
   "name": "python",
   "nbconvert_exporter": "python",
   "pygments_lexer": "ipython3",
   "version": "3.9.0-final"
  }
 },
 "nbformat": 4,
 "nbformat_minor": 4
}